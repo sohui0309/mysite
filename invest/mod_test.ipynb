{
 "cells": [
  {
   "cell_type": "code",
   "execution_count": null,
   "id": "a8726cc6",
   "metadata": {},
   "outputs": [],
   "source": [
    "import buyandhold as bnh\n",
    "import bollinger as boll\n",
    "import halloween as hal\n",
    "import momentum as mm"
   ]
  },
  {
   "cell_type": "code",
   "execution_count": null,
   "id": "1bf4c35d",
   "metadata": {},
   "outputs": [],
   "source": [
    "import pandas as pd"
   ]
  },
  {
   "cell_type": "code",
   "execution_count": null,
   "id": "b86f6e07",
   "metadata": {},
   "outputs": [],
   "source": [
    "df = pd.read_csv(\"../../csv/GDX.csv\")"
   ]
  },
  {
   "cell_type": "code",
   "execution_count": null,
   "id": "dde28ea2",
   "metadata": {},
   "outputs": [],
   "source": [
    "# 바이앤홀드로 수익율 확인 \n",
    "bnh_df, bnh_rtn = bnh.bnh(df, _start = '2015-01-01')"
   ]
  },
  {
   "cell_type": "code",
   "execution_count": null,
   "id": "50cc167d",
   "metadata": {},
   "outputs": [],
   "source": [
    "bnh_rtn"
   ]
  },
  {
   "cell_type": "code",
   "execution_count": null,
   "id": "cb4b0da8",
   "metadata": {},
   "outputs": [],
   "source": [
    "# 볼린져밴드로 수익율 확인 \n",
    "band_df = boll.create_band(df, _start = '2015-01-01')"
   ]
  },
  {
   "cell_type": "code",
   "execution_count": null,
   "id": "d1e3dc43",
   "metadata": {},
   "outputs": [],
   "source": [
    "trade_df = boll.create_trade(band_df)"
   ]
  },
  {
   "cell_type": "code",
   "execution_count": null,
   "id": "0accbe9f",
   "metadata": {},
   "outputs": [],
   "source": [
    "boll_df, boll_rtn = boll.create_rtn(trade_df)"
   ]
  },
  {
   "cell_type": "code",
   "execution_count": null,
   "id": "88b48b4e",
   "metadata": {},
   "outputs": [],
   "source": [
    "boll_rtn"
   ]
  },
  {
   "cell_type": "code",
   "execution_count": null,
   "id": "e1e3f462",
   "metadata": {},
   "outputs": [],
   "source": [
    "hal_df, hal_rtn = hal.six_month(df, _start = '2015-01-01')"
   ]
  },
  {
   "cell_type": "code",
   "execution_count": null,
   "id": "8ac689fa",
   "metadata": {},
   "outputs": [],
   "source": [
    "hal_rtn"
   ]
  },
  {
   "cell_type": "code",
   "execution_count": null,
   "id": "da8aa709",
   "metadata": {},
   "outputs": [],
   "source": [
    "ym_df = mm.create_YM(df)"
   ]
  },
  {
   "cell_type": "code",
   "execution_count": null,
   "id": "47bb34df",
   "metadata": {},
   "outputs": [],
   "source": [
    "month_df = mm.create_last_month(ym_df)"
   ]
  },
  {
   "cell_type": "code",
   "execution_count": null,
   "id": "f821d8e7",
   "metadata": {},
   "outputs": [],
   "source": [
    "mm_df, mm_rtn  = mm.create_rtn(ym_df, month_df)"
   ]
  },
  {
   "cell_type": "code",
   "execution_count": null,
   "id": "bcd2d2d3",
   "metadata": {},
   "outputs": [],
   "source": [
    "mm_rtn"
   ]
  },
  {
   "cell_type": "code",
   "execution_count": null,
   "id": "12adc009",
   "metadata": {},
   "outputs": [],
   "source": [
    "import momentum2 as mm2"
   ]
  },
  {
   "cell_type": "code",
   "execution_count": null,
   "id": "011bd911",
   "metadata": {},
   "outputs": [],
   "source": [
    "# 모듈 수정 후 다시 로드 \n",
    "import importlib\n",
    "\n",
    "importlib.reload(mm2)"
   ]
  },
  {
   "cell_type": "code",
   "execution_count": null,
   "id": "30d72fe3",
   "metadata": {},
   "outputs": [],
   "source": [
    "import warnings"
   ]
  },
  {
   "cell_type": "code",
   "execution_count": null,
   "id": "16db4c8b",
   "metadata": {},
   "outputs": [],
   "source": [
    "warnings.filterwarnings('ignore')"
   ]
  },
  {
   "cell_type": "code",
   "execution_count": null,
   "id": "61fb5689",
   "metadata": {},
   "outputs": [],
   "source": [
    "# mm2에 있는 data_load()함수 호출\n",
    "# 결과를 2개 되돌려준다. \n",
    "stock_df, month_last_df = mm2.data_load()"
   ]
  },
  {
   "cell_type": "code",
   "execution_count": null,
   "id": "f0d6735a",
   "metadata": {},
   "outputs": [],
   "source": [
    "month_last_df.head(2)"
   ]
  },
  {
   "cell_type": "code",
   "execution_count": null,
   "id": "27e552d9",
   "metadata": {},
   "outputs": [],
   "source": [
    "# month_last_df 데이터를 이용해서 create_position함수를 호출\n",
    "sig_dict, stock_code = \\\n",
    "    mm2.create_position(month_last_df)"
   ]
  },
  {
   "cell_type": "code",
   "execution_count": null,
   "id": "5df79522",
   "metadata": {},
   "outputs": [],
   "source": [
    "sig_dict"
   ]
  },
  {
   "cell_type": "code",
   "execution_count": null,
   "id": "dde41a3b",
   "metadata": {},
   "outputs": [],
   "source": [
    "# 거래내역을 생성하는 함수 호출 \n",
    "# 매개변수 3개 -> stock_df, stock_code, sig_dict\n",
    "book = mm2.create_trade_book(stock_df, \n",
    "    stock_code, sig_dict)"
   ]
  },
  {
   "cell_type": "code",
   "execution_count": null,
   "id": "dc5f5228",
   "metadata": {},
   "outputs": [],
   "source": [
    "book.head()"
   ]
  },
  {
   "cell_type": "code",
   "execution_count": null,
   "id": "c9c160ee",
   "metadata": {},
   "outputs": [],
   "source": [
    "# 거래 내역을 추가하는 함수 \n",
    "#  매개변수 2개 -> book, stock_code\n",
    "book2 = mm2.create_trading(book, stock_code)"
   ]
  },
  {
   "cell_type": "code",
   "execution_count": null,
   "id": "f7ba856b",
   "metadata": {},
   "outputs": [],
   "source": [
    "# 수익율 계산하는 함수 \n",
    "# 매개변수 2개 -> book2, stock_code\n",
    "book3 = mm2.multi_return(book2, stock_code)"
   ]
  },
  {
   "cell_type": "code",
   "execution_count": null,
   "id": "103aca7b",
   "metadata": {},
   "outputs": [],
   "source": [
    "# 누적 수익율 계산하는 함수 호출 \n",
    "# 매개변수 2개 -> book3, stock_code\n",
    "# 되돌려주는 데이터가 데이터프레임과 최종 수익율\n",
    "book4, acc_rtn = mm2.multi_acc_rtn(book3, stock_code)"
   ]
  }
 ],
 "metadata": {
  "kernelspec": {
   "display_name": "Python 3",
   "language": "python",
   "name": "python3"
  },
  "language_info": {
   "codemirror_mode": {
    "name": "ipython",
    "version": 3
   },
   "file_extension": ".py",
   "mimetype": "text/x-python",
   "name": "python",
   "nbconvert_exporter": "python",
   "pygments_lexer": "ipython3",
   "version": "3.11.1"
  }
 },
 "nbformat": 4,
 "nbformat_minor": 5
}
